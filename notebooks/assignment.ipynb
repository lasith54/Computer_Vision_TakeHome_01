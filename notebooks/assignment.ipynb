{
 "cells": [
  {
   "cell_type": "markdown",
   "metadata": {},
   "source": [
    "# EC7212 – Computer Vision and Image Processing"
   ]
  },
  {
   "cell_type": "markdown",
   "metadata": {},
   "source": [
    "## Take Home Assignment 1"
   ]
  },
  {
   "cell_type": "markdown",
   "metadata": {},
   "source": [
    "## EG/2020/4111 - Perera G.A.L.S."
   ]
  },
  {
   "cell_type": "markdown",
   "metadata": {},
   "source": [
    "#### [GitHub Repository](https://github.com/lasith54/Computer_Vision_TakeHome_01.git)"
   ]
  },
  {
   "cell_type": "code",
   "execution_count": 1,
   "metadata": {},
   "outputs": [
    {
     "ename": "",
     "evalue": "",
     "output_type": "error",
     "traceback": [
      "\u001b[1;31mRunning cells with 'venv (Python 3.12.8)' requires the ipykernel package.\n",
      "\u001b[1;31mRun the following command to install 'ipykernel' into the Python environment. \n",
      "\u001b[1;31mCommand: '\"e:/Semester 7/Computer_Vision_TakeHome_01/venv/Scripts/python.exe\" -m pip install ipykernel -U --force-reinstall'"
     ]
    }
   ],
   "source": [
    "import cv2\n",
    "import numpy as np\n",
    "import matplotlib.pyplot as plt\n",
    "import os"
   ]
  },
  {
   "cell_type": "markdown",
   "metadata": {},
   "source": [
    "## Task 1: Reducing Image Intencity"
   ]
  },
  {
   "cell_type": "code",
   "execution_count": 2,
   "metadata": {},
   "outputs": [],
   "source": [
    "def reduce_intensity_levels(image, levels):\n",
    "    if not (levels & (levels - 1) == 0 and levels <= 256):\n",
    "        raise ValueError(\"Levels must be a power of 2 and ≤ 256\")\n",
    "\n",
    "    # Compute the quantization step\n",
    "    step = 256 // levels\n",
    "    reduced_img = (image // step) * step\n",
    "\n",
    "    return reduced_img"
   ]
  },
  {
   "cell_type": "code",
   "execution_count": 3,
   "metadata": {},
   "outputs": [],
   "source": [
    "img_path = os.path.join(\"..\", \"image\", \"image.jpg\")\n",
    "original_img = cv2.imread(img_path, cv2.IMREAD_GRAYSCALE)\n",
    "\n",
    "if original_img is None:\n",
    "    raise FileNotFoundError(f\"Image file not found at {img_path}\")\n"
   ]
  },
  {
   "cell_type": "code",
   "execution_count": 4,
   "metadata": {},
   "outputs": [],
   "source": [
    "levels = 8\n",
    "reduced_img = reduce_intensity_levels(original_img, levels)"
   ]
  },
  {
   "cell_type": "code",
   "execution_count": null,
   "metadata": {},
   "outputs": [],
   "source": [
    "output_path = os.path.join(\"..\", \"results\", \"intensity_reduced_img.jpg\")\n",
    "cv2.imwrite(output_path, reduced_img)"
   ]
  },
  {
   "cell_type": "code",
   "execution_count": null,
   "metadata": {},
   "outputs": [],
   "source": [
    "# Plot using matplotlib\n",
    "plt.figure(figsize=(10, 5))\n",
    "\n",
    "plt.subplot(1, 2, 1)\n",
    "plt.imshow(original_img, cmap='gray')\n",
    "plt.title('Original Image')\n",
    "plt.axis('off')\n",
    "\n",
    "plt.subplot(1, 2, 2)\n",
    "plt.imshow(reduced_img, cmap='gray')\n",
    "plt.title(f'{levels}-Level Reduced Image')\n",
    "plt.axis('off')\n",
    "\n",
    "plt.tight_layout()\n",
    "plt.show()\n"
   ]
  },
  {
   "cell_type": "markdown",
   "metadata": {},
   "source": [
    "## Task 2: Spatial Average"
   ]
  },
  {
   "cell_type": "code",
   "execution_count": 7,
   "metadata": {},
   "outputs": [],
   "source": [
    "def average_filter(img, mask):\n",
    "    return cv2.blur(img, (mask, mask))"
   ]
  },
  {
   "cell_type": "code",
   "execution_count": 8,
   "metadata": {},
   "outputs": [],
   "source": [
    "convoluted_img_3 = average_filter(original_img, 3)\n",
    "convoluted_img_10 = average_filter(original_img, 10)\n",
    "convoluted_img_20 = average_filter(original_img, 20)\n",
    "\n",
    "images = [original_img, convoluted_img_3, convoluted_img_10, convoluted_img_20]\n",
    "topics = ['Original Image', '3x3 Averaged Image', '10x10 Averaged Image', '20x20 Averaged Image']"
   ]
  },
  {
   "cell_type": "code",
   "execution_count": 9,
   "metadata": {},
   "outputs": [],
   "source": [
    "for i in range(1, 4):\n",
    "    output_path = os.path.join(\"..\", \"results\", f\"{topics[i]}.jpg\")\n",
    "    cv2.imwrite(output_path, images[i])"
   ]
  },
  {
   "cell_type": "code",
   "execution_count": null,
   "metadata": {},
   "outputs": [],
   "source": [
    "# Plot using matplotlib\n",
    "plt.figure(figsize=(10, 5))\n",
    "\n",
    "for i in range(0, 4):\n",
    "    plt.subplot(1, 4, i+1)\n",
    "    plt.imshow(images[i], cmap='gray')\n",
    "    plt.title(topics[i])\n",
    "    plt.axis('off')\n",
    "\n",
    "plt.tight_layout()\n",
    "plt.show()"
   ]
  },
  {
   "cell_type": "markdown",
   "metadata": {},
   "source": [
    "## Task 3: Image Rotation"
   ]
  },
  {
   "cell_type": "markdown",
   "metadata": {},
   "source": [
    "#### Rotate by 45 degrees"
   ]
  },
  {
   "cell_type": "code",
   "execution_count": 11,
   "metadata": {},
   "outputs": [],
   "source": [
    "# Shape of image in terms of pixels.\n",
    "(rows, cols) = original_img.shape[:2]\n",
    "\n",
    "M = cv2.getRotationMatrix2D((cols/2, rows/2), 45, 1)\n",
    "angled_img = cv2.warpAffine(original_img, M, (cols, rows))"
   ]
  },
  {
   "cell_type": "code",
   "execution_count": null,
   "metadata": {},
   "outputs": [],
   "source": [
    "output_path = os.path.join(\"..\", \"results\", \"45_rotated_img.jpg\")\n",
    "cv2.imwrite(output_path, angled_img)"
   ]
  },
  {
   "cell_type": "markdown",
   "metadata": {},
   "source": [
    "#### Rotate by 90 degrees"
   ]
  },
  {
   "cell_type": "code",
   "execution_count": null,
   "metadata": {},
   "outputs": [],
   "source": [
    "rotated_img = cv2.rotate(original_img, cv2.ROTATE_90_CLOCKWISE)\n",
    "output_path = os.path.join(\"..\", \"results\", \"90_rotated_img.jpg\")\n",
    "cv2.imwrite(output_path, rotated_img)"
   ]
  },
  {
   "cell_type": "code",
   "execution_count": null,
   "metadata": {},
   "outputs": [],
   "source": [
    "# Plot using matplotlib\n",
    "plt.figure(figsize=(10, 5))\n",
    "\n",
    "plt.subplot(1, 3, 1)\n",
    "plt.imshow(original_img, cmap='gray')\n",
    "plt.title('Original Image')\n",
    "plt.axis('off')\n",
    "\n",
    "plt.subplot(1, 3, 2)\n",
    "plt.imshow(angled_img, cmap='gray')\n",
    "plt.title(f'45 Degrees Rotated Image')\n",
    "plt.axis('off')\n",
    "\n",
    "plt.subplot(1, 3, 3)\n",
    "plt.imshow(rotated_img, cmap='gray')\n",
    "plt.title(f'90 Degrees Rotated Image')\n",
    "plt.axis('off')\n",
    "\n",
    "plt.tight_layout()\n",
    "plt.show()\n"
   ]
  },
  {
   "cell_type": "markdown",
   "metadata": {},
   "source": [
    "## Task 4: Spatial Resolution Reduction"
   ]
  },
  {
   "cell_type": "code",
   "execution_count": 15,
   "metadata": {},
   "outputs": [],
   "source": [
    "def block_average(img, k):\n",
    "    h, w = img.shape[:2]\n",
    "    out = img.copy()\n",
    "\n",
    "    for i in range(0, h-k+1, k):\n",
    "        for j in range(0, w-k+1, k):\n",
    "            block = img[i:i+k, j:j+k]\n",
    "\n",
    "            mean = block.mean(axis=(0, 1), dtype=np.uint8)\n",
    "\n",
    "            out[i:i+k, j:j+k] = mean\n",
    "\n",
    "    return out"
   ]
  },
  {
   "cell_type": "code",
   "execution_count": 16,
   "metadata": {},
   "outputs": [],
   "source": [
    "img_3 = block_average(original_img, 3)\n",
    "img_5 = block_average(original_img, 5)\n",
    "img_7 = block_average(original_img, 7)"
   ]
  },
  {
   "cell_type": "code",
   "execution_count": 17,
   "metadata": {},
   "outputs": [],
   "source": [
    "titles = ['Original', '3x3 Block Averaged', '5x5 Block Averaged', '7x7 Block Averaged']\n",
    "blocked_images = [original_img, img_3, img_5, img_7]"
   ]
  },
  {
   "cell_type": "code",
   "execution_count": 18,
   "metadata": {},
   "outputs": [],
   "source": [
    "for i in range(1, 4):\n",
    "    output_path = os.path.join(\"..\", \"results\", f\"{titles[i]}.jpg\")\n",
    "    cv2.imwrite(output_path, images[i])"
   ]
  },
  {
   "cell_type": "code",
   "execution_count": null,
   "metadata": {},
   "outputs": [],
   "source": [
    "# Plot using matplotlib\n",
    "plt.figure(figsize=(10, 5))\n",
    "\n",
    "for i in range(0, 4):\n",
    "    plt.subplot(1, 4, i+1)\n",
    "    plt.imshow(blocked_images[i], cmap='gray')\n",
    "    plt.title(titles[i])\n",
    "    plt.axis('off')\n",
    "\n",
    "plt.tight_layout()\n",
    "plt.show()"
   ]
  }
 ],
 "metadata": {
  "kernelspec": {
   "display_name": "venv",
   "language": "python",
   "name": "python3"
  },
  "language_info": {
   "codemirror_mode": {
    "name": "ipython",
    "version": 3
   },
   "file_extension": ".py",
   "mimetype": "text/x-python",
   "name": "python",
   "nbconvert_exporter": "python",
   "pygments_lexer": "ipython3",
   "version": "3.12.8"
  }
 },
 "nbformat": 4,
 "nbformat_minor": 2
}
